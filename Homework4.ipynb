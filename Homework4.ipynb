{
  "nbformat": 4,
  "nbformat_minor": 0,
  "metadata": {
    "colab": {
      "provenance": [],
      "authorship_tag": "ABX9TyPudQiXmDJRgphHATRqFeYH",
      "include_colab_link": true
    },
    "kernelspec": {
      "name": "python3",
      "display_name": "Python 3"
    },
    "language_info": {
      "name": "python"
    }
  },
  "cells": [
    {
      "cell_type": "markdown",
      "metadata": {
        "id": "view-in-github",
        "colab_type": "text"
      },
      "source": [
        "<a href=\"https://colab.research.google.com/github/HEEHiii/Pythonclass/blob/main/Homework4.ipynb\" target=\"_parent\"><img src=\"https://colab.research.google.com/assets/colab-badge.svg\" alt=\"Open In Colab\"/></a>"
      ]
    },
    {
      "cell_type": "code",
      "execution_count": null,
      "metadata": {
        "id": "2wHJr6KPwRvC"
      },
      "outputs": [],
      "source": [
        "#071\n",
        "\n",
        "my_variable = ()\n"
      ]
    },
    {
      "cell_type": "code",
      "source": [
        "#072\n",
        "\n",
        "movie_rank = ('닥터 스트레인지', '스플릿', '럭키')\n"
      ],
      "metadata": {
        "id": "-1jkEW7dw6KB"
      },
      "execution_count": null,
      "outputs": []
    },
    {
      "cell_type": "code",
      "source": [
        "#073\n",
        "\n",
        "tuple1 = (1)\n"
      ],
      "metadata": {
        "id": "_jJzl2JNxUzj"
      },
      "execution_count": null,
      "outputs": []
    },
    {
      "cell_type": "code",
      "source": [
        "#074\n",
        "\n",
        "t = (1, 2, 3)\n",
        "t[0] = 'a'\n",
        "\n",
        "# 튜플은 immutable 하기 때문입니다."
      ],
      "metadata": {
        "colab": {
          "base_uri": "https://localhost:8080/",
          "height": 209
        },
        "id": "79cLFhdixbhU",
        "outputId": "7481c125-707d-485b-ab52-0d9be386940b"
      },
      "execution_count": null,
      "outputs": [
        {
          "output_type": "error",
          "ename": "TypeError",
          "evalue": "ignored",
          "traceback": [
            "\u001b[0;31m---------------------------------------------------------------------------\u001b[0m",
            "\u001b[0;31mTypeError\u001b[0m                                 Traceback (most recent call last)",
            "\u001b[0;32m<ipython-input-2-11f17ab961cb>\u001b[0m in \u001b[0;36m<module>\u001b[0;34m\u001b[0m\n\u001b[1;32m      2\u001b[0m \u001b[0;34m\u001b[0m\u001b[0m\n\u001b[1;32m      3\u001b[0m \u001b[0mt\u001b[0m \u001b[0;34m=\u001b[0m \u001b[0;34m(\u001b[0m\u001b[0;36m1\u001b[0m\u001b[0;34m,\u001b[0m \u001b[0;36m2\u001b[0m\u001b[0;34m,\u001b[0m \u001b[0;36m3\u001b[0m\u001b[0;34m)\u001b[0m\u001b[0;34m\u001b[0m\u001b[0;34m\u001b[0m\u001b[0m\n\u001b[0;32m----> 4\u001b[0;31m \u001b[0mt\u001b[0m\u001b[0;34m[\u001b[0m\u001b[0;36m0\u001b[0m\u001b[0;34m]\u001b[0m \u001b[0;34m=\u001b[0m \u001b[0;34m'a'\u001b[0m\u001b[0;34m\u001b[0m\u001b[0;34m\u001b[0m\u001b[0m\n\u001b[0m",
            "\u001b[0;31mTypeError\u001b[0m: 'tuple' object does not support item assignment"
          ]
        }
      ]
    },
    {
      "cell_type": "code",
      "source": [
        "#075\n",
        "\n",
        "t = 1, 2, 3, 4\n",
        "\n",
        "# 숫자형입니다."
      ],
      "metadata": {
        "id": "chhcUgJRyBQb"
      },
      "execution_count": null,
      "outputs": []
    },
    {
      "cell_type": "code",
      "source": [
        "#076\n",
        "\n",
        "# 튜플은 immutable 해서 수정이 불가능합니다."
      ],
      "metadata": {
        "id": "hVQKHnKAyJzl"
      },
      "execution_count": null,
      "outputs": []
    },
    {
      "cell_type": "code",
      "source": [
        "#077\n",
        "\n",
        "interest = ('삼성전자', 'LG전자', 'SK Hynix')\n",
        "\n",
        "data = list(interest)\n",
        "\n",
        "print(data)"
      ],
      "metadata": {
        "colab": {
          "base_uri": "https://localhost:8080/"
        },
        "id": "SqvkQcFzyTvf",
        "outputId": "d1b2311c-358b-48f9-8d07-eae0a84e7a1d"
      },
      "execution_count": null,
      "outputs": [
        {
          "output_type": "stream",
          "name": "stdout",
          "text": [
            "['삼성전자', 'LG전자', 'SK Hynix']\n"
          ]
        }
      ]
    },
    {
      "cell_type": "code",
      "source": [
        "#078\n",
        "\n",
        "interest = ['삼성전자', 'LG전자', 'SK Hynix']\n",
        "\n",
        "print(tuple(interest))\n"
      ],
      "metadata": {
        "colab": {
          "base_uri": "https://localhost:8080/"
        },
        "id": "df88rViMyT7V",
        "outputId": "85136834-e84b-43ce-a71d-09cff785b70c"
      },
      "execution_count": null,
      "outputs": [
        {
          "output_type": "stream",
          "name": "stdout",
          "text": [
            "('삼성전자', 'LG전자', 'SK Hynix')\n"
          ]
        }
      ]
    },
    {
      "cell_type": "code",
      "source": [
        "#079\n",
        "\n",
        "temp = ('apple', 'banana', 'cake')\n",
        "a, b, c = temp\n",
        "\n",
        "print(a, b, c)\n",
        "\n",
        "# a = 'apple', b = 'banana', c = 'cake'로 일대일 대응하여 실행됩니다."
      ],
      "metadata": {
        "colab": {
          "base_uri": "https://localhost:8080/"
        },
        "id": "TqvCUTgKzhYM",
        "outputId": "febf3871-f3c6-48df-f18a-20dd27a54b05"
      },
      "execution_count": null,
      "outputs": [
        {
          "output_type": "stream",
          "name": "stdout",
          "text": [
            "apple banana cake\n"
          ]
        }
      ]
    },
    {
      "cell_type": "code",
      "source": [
        "#080\n",
        "\n",
        "print(tuple(range(2,99,2)))"
      ],
      "metadata": {
        "colab": {
          "base_uri": "https://localhost:8080/"
        },
        "id": "8pd_QIz-z5QY",
        "outputId": "5d31689e-0ea9-4e2f-e5ca-40857f4c523a"
      },
      "execution_count": null,
      "outputs": [
        {
          "output_type": "stream",
          "name": "stdout",
          "text": [
            "(2, 4, 6, 8, 10, 12, 14, 16, 18, 20, 22, 24, 26, 28, 30, 32, 34, 36, 38, 40, 42, 44, 46, 48, 50, 52, 54, 56, 58, 60, 62, 64, 66, 68, 70, 72, 74, 76, 78, 80, 82, 84, 86, 88, 90, 92, 94, 96, 98)\n"
          ]
        }
      ]
    },
    {
      "cell_type": "code",
      "source": [
        "#081\n",
        "\n",
        "scores = [8.8, 8.9, 8.7, 9.2, 9.7, 9.9, 9.5, 7.8, 9.4]\n",
        "\n",
        "*valid_score, b, c = scores\n",
        "\n",
        "print(valid_score)\n",
        "\n",
        "#082\n",
        "\n",
        "a, b, *valid_score = scores\n",
        "print(valid_score)\n",
        "\n",
        "#083\n",
        "\n",
        "a, *valid_score, c = scores\n",
        "print(valid_score)\n",
        "\n"
      ],
      "metadata": {
        "colab": {
          "base_uri": "https://localhost:8080/"
        },
        "id": "OUhZLdoB1krY",
        "outputId": "d781890a-f776-4469-ae5a-562da42c6466"
      },
      "execution_count": null,
      "outputs": [
        {
          "output_type": "stream",
          "name": "stdout",
          "text": [
            "[8.8, 8.9, 8.7, 9.2, 9.7, 9.9, 9.5]\n",
            "[8.7, 9.2, 9.7, 9.9, 9.5, 7.8, 9.4]\n",
            "[8.9, 8.7, 9.2, 9.7, 9.9, 9.5, 7.8]\n"
          ]
        }
      ]
    },
    {
      "cell_type": "code",
      "source": [
        "#084\n",
        "\n",
        "temp = {}"
      ],
      "metadata": {
        "id": "XvYbQyyv3XXx"
      },
      "execution_count": null,
      "outputs": []
    },
    {
      "cell_type": "code",
      "source": [
        "#085\n",
        "\n",
        "Dict = {'메로나':1000, '폴라포':1200, '빵빠레':1800}\n",
        "\n",
        "#086\n",
        "\n",
        "Dict['죠스바'] = 1200\n",
        "Dict['월드콘'] = 1500\n",
        "\n",
        "print(Dict)\n"
      ],
      "metadata": {
        "colab": {
          "base_uri": "https://localhost:8080/"
        },
        "id": "SQPs7R9m3erm",
        "outputId": "303af0c1-8cd7-4816-8c88-6a676b513a35"
      },
      "execution_count": null,
      "outputs": [
        {
          "output_type": "stream",
          "name": "stdout",
          "text": [
            "{'메로나': 1000, '폴라포': 1200, '빵빠레': 1800, '죠스바': 1200, '월드콘': 1500}\n"
          ]
        }
      ]
    },
    {
      "cell_type": "code",
      "source": [
        "#087\n",
        "\n",
        "ice = {'메로나': 1000, '폴라포': 1200, '빵빠레': 1800, '죠스바': 1200, '월드콘': 1500}\n",
        "\n",
        "print(ice['메로나'])\n",
        "\n",
        "#088\n",
        "\n",
        "ice['메로나'] = 1300\n",
        "print(ice)\n",
        "\n",
        "#089\n",
        "\n",
        "del ice['메로나']\n",
        "print(ice)"
      ],
      "metadata": {
        "colab": {
          "base_uri": "https://localhost:8080/"
        },
        "id": "g5vIGQhq8dEY",
        "outputId": "b9e0eb65-8206-46e1-b7a0-ae93b8777387"
      },
      "execution_count": null,
      "outputs": [
        {
          "output_type": "stream",
          "name": "stdout",
          "text": [
            "1000\n",
            "{'메로나': 1300, '폴라포': 1200, '빵빠레': 1800, '죠스바': 1200, '월드콘': 1500}\n",
            "{'폴라포': 1200, '빵빠레': 1800, '죠스바': 1200, '월드콘': 1500}\n"
          ]
        }
      ]
    },
    {
      "cell_type": "code",
      "source": [
        "#090\n",
        "\n",
        "#딕셔너리는 키값, 밸류값의 쌍으로 데이터가 저장되는 자료형입니다.\n",
        "#키값인 '누가바'와  쌍인 밸류값을 입력하지 않았기 때문에 에러가 발생했습니다.\n",
        "\n"
      ],
      "metadata": {
        "id": "cDl1mt1F-Xn6"
      },
      "execution_count": null,
      "outputs": []
    }
  ]
}
{
  "nbformat": 4,
  "nbformat_minor": 0,
  "metadata": {
    "colab": {
      "provenance": [],
      "authorship_tag": "ABX9TyMYj1iXyUxHQBj8clq6nmhZ",
      "include_colab_link": true
    },
    "kernelspec": {
      "name": "python3",
      "display_name": "Python 3"
    },
    "language_info": {
      "name": "python"
    }
  },
  "cells": [
    {
      "cell_type": "markdown",
      "metadata": {
        "id": "view-in-github",
        "colab_type": "text"
      },
      "source": [
        "<a href=\"https://colab.research.google.com/github/HEEHiii/Pythonclass/blob/main/Untitled1.ipynb\" target=\"_parent\"><img src=\"https://colab.research.google.com/assets/colab-badge.svg\" alt=\"Open In Colab\"/></a>"
      ]
    },
    {
      "cell_type": "code",
      "execution_count": null,
      "metadata": {
        "colab": {
          "base_uri": "https://localhost:8080/"
        },
        "id": "HqkTedCdysNQ",
        "outputId": "c9c454c3-8148-40b5-f6f6-adaf5f94a01c"
      },
      "outputs": [
        {
          "output_type": "stream",
          "name": "stdout",
          "text": [
            "['닥터 스트레인지', '스플릿', '럭키']\n",
            "['닥터 스트레인지', '스플릿', '럭키', '배트맨']\n",
            "['닥터 스트레인지', '슈퍼맨', '스플릿', '럭키', '배트맨']\n",
            "['닥터 스트레인지', '슈퍼맨', '스플릿', '배트맨']\n",
            "['닥터 스트레인지', '슈퍼맨']\n"
          ]
        }
      ],
      "source": [
        "#051\n",
        "\n",
        "movie_rank = ['닥터 스트레인지', '스플릿', '럭키']\n",
        "\n",
        "print(movie_rank)\n",
        "\n",
        "\n",
        "#052\n",
        "\n",
        "movie_rank.append('배트맨')\n",
        "\n",
        "print(movie_rank)\n",
        "\n",
        "#053\n",
        "\n",
        "movie_rank.insert(1, '슈퍼맨')\n",
        "print(movie_rank)\n",
        "\n",
        "#054\n",
        "\n",
        "movie_rank.remove('럭키')\n",
        "print(movie_rank)\n",
        "\n",
        "#055\n",
        "\n",
        "movie_rank.pop()\n",
        "movie_rank.pop()\n",
        "\n",
        "print(movie_rank)"
      ]
    },
    {
      "cell_type": "code",
      "source": [
        "#056\n",
        "\n",
        "lang1 = [\"C\", \"C++\", \"JAVA\"]\n",
        "lang2 = [\"Python\", \"Go\", \"C#\"]\n",
        "\n",
        "langs = lang1 + lang2\n",
        "print(langs)\n"
      ],
      "metadata": {
        "colab": {
          "base_uri": "https://localhost:8080/"
        },
        "id": "ER4hpEOu0IdC",
        "outputId": "69b89791-ff62-4ec0-a8f5-dac192a82899"
      },
      "execution_count": null,
      "outputs": [
        {
          "output_type": "stream",
          "name": "stdout",
          "text": [
            "['C', 'C++', 'JAVA', 'Python', 'Go', 'C#']\n"
          ]
        }
      ]
    },
    {
      "cell_type": "code",
      "source": [
        "#057\n",
        "\n",
        "nums = [1, 2, 3, 4 ,5 ,6 ,7]\n",
        "\n",
        "print(min(nums))\n",
        "print(max(nums))"
      ],
      "metadata": {
        "colab": {
          "base_uri": "https://localhost:8080/"
        },
        "id": "hIYBAcjH-MIq",
        "outputId": "0d95daf4-9149-4ebd-e765-1971017d71c9"
      },
      "execution_count": null,
      "outputs": [
        {
          "output_type": "stream",
          "name": "stdout",
          "text": [
            "1\n",
            "7\n"
          ]
        }
      ]
    },
    {
      "cell_type": "code",
      "source": [
        "#058\n",
        "\n",
        "nums = [1,2,3,4,5]\n",
        "\n",
        "print(sum(nums))"
      ],
      "metadata": {
        "colab": {
          "base_uri": "https://localhost:8080/"
        },
        "id": "fRM-8Prv-3ol",
        "outputId": "f628ad0f-d5fb-4b83-cb77-d5120c2a9da9"
      },
      "execution_count": null,
      "outputs": [
        {
          "output_type": "stream",
          "name": "stdout",
          "text": [
            "15\n"
          ]
        }
      ]
    },
    {
      "cell_type": "code",
      "source": [
        "#059\n",
        "\n",
        "cook = ['피자', '김밥', '만두', '양념치킨', '족발', '피자', ' 김치만두', '쫄면', '소시지',\n",
        "'라면', '팥빙수', '김치전']\n",
        "\n",
        "print(len(cook))\n"
      ],
      "metadata": {
        "colab": {
          "base_uri": "https://localhost:8080/"
        },
        "id": "ZGUlH5q5_ZoU",
        "outputId": "ed7e846d-1afe-4e60-b942-28062559d4b6"
      },
      "execution_count": null,
      "outputs": [
        {
          "output_type": "stream",
          "name": "stdout",
          "text": [
            "12\n"
          ]
        }
      ]
    },
    {
      "cell_type": "code",
      "source": [
        "#060\n",
        "\n",
        "nums = [1, 2, 3, 4, 5]\n",
        "\n",
        "print((nums[0]+nums[1])+nums[2]+nums[3]nums[4])/5)"
      ],
      "metadata": {
        "colab": {
          "base_uri": "https://localhost:8080/",
          "height": 136
        },
        "id": "tm7_QJzbEeTm",
        "outputId": "aa194b71-a047-4ff4-d5ca-4bbd8c6c52fd"
      },
      "execution_count": null,
      "outputs": [
        {
          "output_type": "error",
          "ename": "SyntaxError",
          "evalue": "ignored",
          "traceback": [
            "\u001b[0;36m  File \u001b[0;32m\"<ipython-input-22-4723ad451295>\"\u001b[0;36m, line \u001b[0;32m5\u001b[0m\n\u001b[0;31m    print((nums[0]+nums[1])+nums[2]+nums[3]nums[4])/5)\u001b[0m\n\u001b[0m                                              ^\u001b[0m\n\u001b[0;31mSyntaxError\u001b[0m\u001b[0;31m:\u001b[0m invalid syntax\n"
          ]
        }
      ]
    },
    {
      "cell_type": "code",
      "source": [
        "#061\n",
        "\n",
        "price = ['20150728', 100, 130, 140, 150, 160, 170]\n",
        "\n",
        "price[1:]"
      ],
      "metadata": {
        "colab": {
          "base_uri": "https://localhost:8080/"
        },
        "id": "jppesQo5Fkmr",
        "outputId": "6567a1b9-09ac-48b9-8e7b-8093b91b2736"
      },
      "execution_count": null,
      "outputs": [
        {
          "output_type": "execute_result",
          "data": {
            "text/plain": [
              "[100, 130, 140, 150, 160, 170]"
            ]
          },
          "metadata": {},
          "execution_count": 24
        }
      ]
    },
    {
      "cell_type": "code",
      "source": [
        "#062\n",
        "\n",
        "nums = [1, 2, 3, 4, 5, 6 ,7 ,8, 9, 10]\n",
        "\n",
        "print(nums[0::2])\n",
        "\n",
        "\n",
        "#063\n",
        "\n",
        "print(nums[1::2])"
      ],
      "metadata": {
        "colab": {
          "base_uri": "https://localhost:8080/"
        },
        "id": "8dWdao07F-ed",
        "outputId": "17142277-d0e3-428b-9811-79b3ee27d57e"
      },
      "execution_count": null,
      "outputs": [
        {
          "output_type": "stream",
          "name": "stdout",
          "text": [
            "[1, 3, 5, 7, 9]\n",
            "[2, 4, 6, 8, 10]\n"
          ]
        }
      ]
    },
    {
      "cell_type": "code",
      "source": [
        "#064\n",
        "\n",
        "nums = [1, 2, 3, 4, 5]\n",
        "\n",
        "nums[4:0]"
      ],
      "metadata": {
        "colab": {
          "base_uri": "https://localhost:8080/"
        },
        "id": "h6eT8ElqF2qY",
        "outputId": "0cc252ff-79b9-4e41-c337-45d2d4035265"
      },
      "execution_count": null,
      "outputs": [
        {
          "output_type": "execute_result",
          "data": {
            "text/plain": [
              "[]"
            ]
          },
          "metadata": {},
          "execution_count": 29
        }
      ]
    },
    {
      "cell_type": "code",
      "source": [
        "#065\n",
        "\n",
        "interest = ['삼성전자', 'LG전자', 'Naver']\n",
        "\n",
        "print(interest[0], interest[2])"
      ],
      "metadata": {
        "colab": {
          "base_uri": "https://localhost:8080/"
        },
        "id": "EiHhnXPhIEN7",
        "outputId": "db181e49-ebe0-463e-d5e5-01e549ef56de"
      },
      "execution_count": null,
      "outputs": [
        {
          "output_type": "stream",
          "name": "stdout",
          "text": [
            "삼성전자 Naver\n"
          ]
        }
      ]
    },
    {
      "cell_type": "code",
      "source": [
        "#066\n",
        "\n",
        "interest = ['삼성전자', 'LG전자', 'Naver', 'SK하이닉스', '미래에셋대우']\n",
        "\n",
        "print(\" \".join(interest))\n",
        "\n",
        "#067\n",
        "\n",
        "print(\"/\".join(interest))\n",
        "\n",
        "#068\n",
        "\n",
        "print(\"\\n\".join(interest))"
      ],
      "metadata": {
        "colab": {
          "base_uri": "https://localhost:8080/"
        },
        "id": "EeTr81JXIrfY",
        "outputId": "0a182b2a-71b3-4980-b732-5655d47ef526"
      },
      "execution_count": null,
      "outputs": [
        {
          "output_type": "stream",
          "name": "stdout",
          "text": [
            "삼성전자 LG전자 Naver SK하이닉스 미래에셋대우\n",
            "삼성전자/LG전자/Naver/SK하이닉스/미래에셋대우\n",
            "삼성전자\n",
            "LG전자\n",
            "Naver\n",
            "SK하이닉스\n",
            "미래에셋대우\n"
          ]
        }
      ]
    },
    {
      "cell_type": "code",
      "source": [
        "#069\n",
        "\n",
        "string = \"삼성전자/LG전자/Naver\"\n",
        "\n",
        "print(\"삼성전자/LG전자/Naver\".split(/))\n",
        "\n"
      ],
      "metadata": {
        "colab": {
          "base_uri": "https://localhost:8080/",
          "height": 136
        },
        "id": "i8J65Wc1KLHg",
        "outputId": "361839fe-fe0f-47da-9d89-a613547a2712"
      },
      "execution_count": null,
      "outputs": [
        {
          "output_type": "error",
          "ename": "SyntaxError",
          "evalue": "ignored",
          "traceback": [
            "\u001b[0;36m  File \u001b[0;32m\"<ipython-input-53-079dfc227743>\"\u001b[0;36m, line \u001b[0;32m5\u001b[0m\n\u001b[0;31m    print(\"삼성전자/LG전자/Naver\".split(/))\u001b[0m\n\u001b[0m                                  ^\u001b[0m\n\u001b[0;31mSyntaxError\u001b[0m\u001b[0;31m:\u001b[0m invalid syntax\n"
          ]
        }
      ]
    },
    {
      "cell_type": "code",
      "source": [
        "#070\n",
        "\n",
        "data = [2, 4, 3, 1, 5, 10, 9]\n",
        "\n",
        "data.sort()\n",
        "print(data)"
      ],
      "metadata": {
        "colab": {
          "base_uri": "https://localhost:8080/"
        },
        "id": "9BEWjjEFLIfu",
        "outputId": "b51f3cdb-e8ec-4158-ca29-7c43e7e5518d"
      },
      "execution_count": null,
      "outputs": [
        {
          "output_type": "stream",
          "name": "stdout",
          "text": [
            "[1, 2, 3, 4, 5, 9, 10]\n"
          ]
        }
      ]
    }
  ]
}